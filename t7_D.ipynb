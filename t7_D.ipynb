{
 "cells": [
  {
   "cell_type": "code",
   "execution_count": 33,
   "metadata": {},
   "outputs": [
    {
     "name": "stdout",
     "output_type": "stream",
     "text": [
      "(7, -81, 64)\n"
     ]
    }
   ],
   "source": [
    "def egcd(a,b):\n",
    "    if b==0:\n",
    "        x=1\n",
    "        y=0\n",
    "        return a,x,y\n",
    "    x1=0\n",
    "    x2=1\n",
    "    y1=1\n",
    "    y2=0\n",
    "    while b>0:\n",
    "        r=a-(a//b)*b\n",
    "        x=x2-(a//b)*x1\n",
    "        y=y2-(a//b)*y1\n",
    "        a=b\n",
    "        b=r\n",
    "        x2=x1\n",
    "        x1=x\n",
    "        y2=y1\n",
    "        y1=y\n",
    "    d=a\n",
    "    x=x2\n",
    "    y=y2\n",
    "    return d,x,y\n",
    "print(egcd(3689,4669))"
   ]
  },
  {
   "cell_type": "code",
   "execution_count": null,
   "metadata": {},
   "outputs": [],
   "source": []
  }
 ],
 "metadata": {
  "kernelspec": {
   "display_name": "Python 3",
   "language": "python",
   "name": "python3"
  },
  "language_info": {
   "codemirror_mode": {
    "name": "ipython",
    "version": 3
   },
   "file_extension": ".py",
   "mimetype": "text/x-python",
   "name": "python",
   "nbconvert_exporter": "python",
   "pygments_lexer": "ipython3",
   "version": "3.7.1"
  }
 },
 "nbformat": 4,
 "nbformat_minor": 2
}
