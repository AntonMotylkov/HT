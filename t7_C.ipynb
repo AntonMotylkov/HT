{
 "cells": [
  {
   "cell_type": "code",
   "execution_count": 1,
   "metadata": {},
   "outputs": [
    {
     "name": "stdout",
     "output_type": "stream",
     "text": [
      "XYZ\n",
      "0\n"
     ]
    }
   ],
   "source": [
    "def unicode(D):\n",
    "    \n",
    "        if D >= 10:\n",
    "            D = chr(D+55)\n",
    "        else:\n",
    "            D = str(D)\n",
    "        return D\n",
    "\n",
    "def str_base(value, base):\n",
    "    \n",
    "    if value == 0:\n",
    "        return 0\n",
    "    S = \"\"\n",
    "    while value != 0:\n",
    "        S = unicode(value % base) + S\n",
    "        value = value // base\n",
    "    return S\n",
    "    \n",
    "print(str_base(44027, 36))\n",
    "print(str_base(0, 36))"
   ]
  }
 ],
 "metadata": {
  "kernelspec": {
   "display_name": "Python 3",
   "language": "python",
   "name": "python3"
  },
  "language_info": {
   "codemirror_mode": {
    "name": "ipython",
    "version": 3
   },
   "file_extension": ".py",
   "mimetype": "text/x-python",
   "name": "python",
   "nbconvert_exporter": "python",
   "pygments_lexer": "ipython3",
   "version": "3.7.0"
  }
 },
 "nbformat": 4,
 "nbformat_minor": 2
}
