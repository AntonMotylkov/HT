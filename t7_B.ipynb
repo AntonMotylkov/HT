{
 "cells": [
  {
   "cell_type": "code",
   "execution_count": 2,
   "metadata": {},
   "outputs": [
    {
     "name": "stdout",
     "output_type": "stream",
     "text": [
      "76.6 ns ± 0.336 ns per loop (mean ± std. dev. of 7 runs, 10000000 loops each)\n",
      "True\n",
      "False\n",
      "True\n",
      "True\n",
      "False\n"
     ]
    }
   ],
   "source": [
    "import functools\n",
    "\n",
    "def is_simple(a):\n",
    "    if a == 1:\n",
    "        return False\n",
    "    else:\n",
    "        for i in range(2,int(a**0.5)):\n",
    "            if a%i == 0:\n",
    "                return False       \n",
    "    return True\n",
    "\n",
    "@functools.lru_cache()\n",
    "def is_simple_cached(a):\n",
    "    return is_simple(a)\n",
    "\n",
    "%timeit is_simple_cached(2**31-1)\n",
    "print(is_simple_cached(2**31-1))\n",
    "print(is_simple_cached(1)) \n",
    "print(is_simple_cached(2)) \n",
    "print(is_simple_cached(137)) \n",
    "print(is_simple_cached(1500))"
   ]
  }
 ],
 "metadata": {
  "kernelspec": {
   "display_name": "Python 3",
   "language": "python",
   "name": "python3"
  },
  "language_info": {
   "codemirror_mode": {
    "name": "ipython",
    "version": 3
   },
   "file_extension": ".py",
   "mimetype": "text/x-python",
   "name": "python",
   "nbconvert_exporter": "python",
   "pygments_lexer": "ipython3",
   "version": "3.7.0"
  }
 },
 "nbformat": 4,
 "nbformat_minor": 2
}
