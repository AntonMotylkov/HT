{
 "cells": [
  {
   "cell_type": "code",
   "execution_count": 18,
   "metadata": {},
   "outputs": [
    {
     "name": "stdout",
     "output_type": "stream",
     "text": [
      "5.19 ms ± 219 µs per loop (mean ± std. dev. of 7 runs, 100 loops each)\n",
      "128 ns ± 20.8 ns per loop (mean ± std. dev. of 7 runs, 10000000 loops each)\n",
      "True\n",
      "True\n",
      "True\n",
      "True\n",
      "False\n"
     ]
    }
   ],
   "source": [
    "import functools\n",
    "\n",
    "def is_simple(a):\n",
    "    b=bool(0)\n",
    "    for i in range(2,int(a**0.5)):\n",
    "        if(a%i==0):\n",
    "            return b\n",
    "            break\n",
    "    b=bool(1)\n",
    "    return b\n",
    "\n",
    "@functools.lru_cache()\n",
    "def is_simple_cached(a):\n",
    "    return is_simple(a)\n",
    "\n",
    "%timeit is_simple(2**31-1)\n",
    "%timeit is_simple_cached(2**31-1)\n",
    "print(is_simple_cached(2**31-1)) \n",
    "print(is_simple_cached(1)) #На всякий случай проверил для очевидных чисел...\n",
    "print(is_simple_cached(2)) \n",
    "print(is_simple_cached(137)) \n",
    "print(is_simple_cached(1500))"
   ]
  },
  {
   "cell_type": "code",
   "execution_count": null,
   "metadata": {},
   "outputs": [],
   "source": []
  }
 ],
 "metadata": {
  "kernelspec": {
   "display_name": "Python 3",
   "language": "python",
   "name": "python3"
  },
  "language_info": {
   "codemirror_mode": {
    "name": "ipython",
    "version": 3
   },
   "file_extension": ".py",
   "mimetype": "text/x-python",
   "name": "python",
   "nbconvert_exporter": "python",
   "pygments_lexer": "ipython3",
   "version": "3.7.1"
  }
 },
 "nbformat": 4,
 "nbformat_minor": 2
}
