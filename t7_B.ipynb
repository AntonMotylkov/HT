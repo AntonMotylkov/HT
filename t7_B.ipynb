{
 "cells": [
  {
   "cell_type": "code",
   "execution_count": 15,
   "metadata": {},
   "outputs": [
    {
     "name": "stdout",
     "output_type": "stream",
     "text": [
      "5.83 ms ± 102 µs per loop (mean ± std. dev. of 7 runs, 100 loops each)\n",
      "127 ns ± 3.22 ns per loop (mean ± std. dev. of 7 runs, 10000000 loops each)\n",
      "true\n"
     ]
    }
   ],
   "source": [
    "import functools\n",
    "\n",
    "def is_simple(a: 'int') -> 'bool':\n",
    "    for i in range(2,int(a**0.5)):\n",
    "        if(a%i==0):\n",
    "            return 'false'\n",
    "            break\n",
    "    return 'true'\n",
    "\n",
    "@functools.lru_cache()\n",
    "def is_simple_cached(a: 'int') -> 'bool':\n",
    "    is_simple_cached = functools.lru_cache()(is_simple)\n",
    "    return is_simple_cached(a)\n",
    "\n",
    "%timeit is_simple(2**31-1)\n",
    "%timeit is_simple_cached(2**31-1)\n",
    "print(is_simple_cached(2**31-1)) "
   ]
  }
 ],
 "metadata": {
  "kernelspec": {
   "display_name": "Python 3",
   "language": "python",
   "name": "python3"
  },
  "language_info": {
   "codemirror_mode": {
    "name": "ipython",
    "version": 3
   },
   "file_extension": ".py",
   "mimetype": "text/x-python",
   "name": "python",
   "nbconvert_exporter": "python",
   "pygments_lexer": "ipython3",
   "version": "3.7.1"
  }
 },
 "nbformat": 4,
 "nbformat_minor": 2
}
