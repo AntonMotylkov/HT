{
 "cells": [
  {
   "cell_type": "code",
   "execution_count": null,
   "metadata": {
    "scrolled": true
   },
   "outputs": [],
   "source": [
    "import math\n",
    "print(\"Вычисление ln(1+x) при помощи частичного суммирования ряда Тейлора\")\n",
    "print(\"Введите n\")\n",
    "n=int(input())\n",
    "print(\"Введите x, |x|<1\")\n",
    "x=float(input())\n",
    "def my_ln(x):\n",
    "    \n",
    "    xn=0\n",
    "    k=0\n",
    "    for i in range(n):\n",
    "        one=(-1)**i  #(-1)^n\n",
    "        xn=one*(x**(i+1))/(i+1)  #((-1)^n)*(x^(n+1))/(n+1)\n",
    "        k+=xn\n",
    "    return k\n",
    "print(math.log(1+x, math.e), my_ln(x))\n"
   ]
  }
 ],
 "metadata": {
  "celltoolbar": "Edit Metadata",
  "kernelspec": {
   "display_name": "Python 3",
   "language": "python",
   "name": "python3"
  },
  "language_info": {
   "codemirror_mode": {
    "name": "ipython",
    "version": 3
   },
   "file_extension": ".py",
   "mimetype": "text/x-python",
   "name": "python",
   "nbconvert_exporter": "python",
   "pygments_lexer": "ipython3",
   "version": "3.7.0"
  }
 },
 "nbformat": 4,
 "nbformat_minor": 2
}
